{
  "nbformat": 4,
  "nbformat_minor": 0,
  "metadata": {
    "colab": {
      "name": "youdo2.ipynb",
      "provenance": [],
      "collapsed_sections": []
    },
    "kernelspec": {
      "name": "python3",
      "display_name": "Python 3"
    },
    "language_info": {
      "name": "python"
    }
  },
  "cells": [
    {
      "cell_type": "code",
      "source": [
        "import pandas as pd\n",
        "import numpy as np"
      ],
      "metadata": {
        "id": "aXWAfMD-KAVH"
      },
      "execution_count": 1,
      "outputs": []
    },
    {
      "cell_type": "code",
      "execution_count": 2,
      "metadata": {
        "colab": {
          "base_uri": "https://localhost:8080/"
        },
        "id": "YVQTCn0GJ6aI",
        "outputId": "95ca36eb-648f-454e-ed27-8a2e1020ea62"
      },
      "outputs": [
        {
          "output_type": "stream",
          "name": "stderr",
          "text": [
            "/usr/local/lib/python3.7/dist-packages/pandas/util/_decorators.py:311: ParserWarning: Falling back to the 'python' engine because the 'c' engine does not support regex separators (separators > 1 char and different from '\\s+' are interpreted as regex); you can avoid this warning by specifying engine='python'.\n",
            "  return func(*args, **kwargs)\n"
          ]
        }
      ],
      "source": [
        "df = pd.read_csv('https://files.grouplens.org/datasets/movielens/ml-100k/u.data', delimiter=r'\\t',\n",
        "                 names=['user_id', 'item_id', 'rating', 'timestamp']) \n",
        " \n",
        "r = df.pivot(index='user_id', columns='item_id', values='rating').values"
      ]
    },
    {
      "cell_type": "code",
      "source": [
        "def ls_recommender(r, alpha=0.001) -> np.ndarray:\n",
        "  beta_user = np.random.random(len(r))\n",
        "  beta_item = np.random.random(len(r[0]))\n",
        "  not_nan_indices = np.argwhere(np.logical_not(np.isnan(r)))\n",
        "\n",
        "  print(\"starting sgd\")\n",
        "  y_pred = np.ones(r.shape) * np.nan\n",
        "\n",
        "  for iteration in range(1000):\n",
        "    for index in not_nan_indices:\n",
        "      y_pred[index[0]][index[1]] = beta_user[index[0]] + beta_item[index[1]]\n",
        "\n",
        "    g_b0 = -1 * np.nansum(np.dstack((r,-y_pred)),2)\n",
        "    g_b1 = -1 * np.nansum(np.dstack((r,-y_pred)),2)\n",
        "\n",
        "    #print(f\"({i}) beta_user: {beta_user}, beta_item: {beta_item}, gradient: {g_b0} {g_b1}\")\n",
        "\n",
        "    beta_prev_user = np.copy(beta_user)\n",
        "    beta_prev_item = np.copy(beta_item)\n",
        "\n",
        "    for i,u_beta in enumerate(beta_user):\n",
        "      beta_user[i] = u_beta - (np.nansum(g_b0[i])*alpha)\n",
        "\n",
        "    for j,i_beta in enumerate(beta_item):\n",
        "      beta_item[j] = i_beta - (np.nansum(g_b1[:,j])*alpha)\n",
        "          \n",
        "\n",
        "    if np.linalg.norm(beta_user - beta_prev_user) < 0.0001 and np.linalg.norm(beta_item - beta_prev_item) < 0.0001:\n",
        "        print(f\"I do early stoping at iteration {iteration}\")\n",
        "        break\n",
        "\n",
        "  return beta_user, beta_item"
      ],
      "metadata": {
        "id": "5pENRHXCTrbq"
      },
      "execution_count": 3,
      "outputs": []
    },
    {
      "cell_type": "code",
      "source": [
        "def ls_recommender_modified(r, alpha=0.001, hyperparameter_lambda = 0.01) -> np.ndarray:\n",
        "  beta_user = np.random.random(len(r))\n",
        "  beta_item = np.random.random(len(r[0]))\n",
        "  not_nan_indices = np.argwhere(np.logical_not(np.isnan(r)))\n",
        "\n",
        "  print(\"starting sgd\")\n",
        "  y_pred = np.ones(r.shape) * np.nan\n",
        "\n",
        "  for iteration in range(100):\n",
        "    for index in not_nan_indices:\n",
        "      y_pred[index[0]][index[1]] = beta_user[index[0]] + beta_item[index[1]]\n",
        "\n",
        "    g_b_user = (-1 * np.nansum(np.dstack((r,-y_pred)),2)) + (hyperparameter_lambda * np.nansum(beta_user))\n",
        "    g_b_item = (-1 * np.nansum(np.dstack((r,-y_pred)),2)) + (hyperparameter_lambda * np.nansum(beta_item))\n",
        "\n",
        "    #print(f\"({i}) beta_user: {beta_user}, beta_item: {beta_item}, gradient: {g_b0} {g_b1}\")\n",
        "\n",
        "    beta_prev_user = np.copy(beta_user)\n",
        "    beta_prev_item = np.copy(beta_item)\n",
        "\n",
        "    for i,u_beta in enumerate(beta_user):\n",
        "      beta_user[i] = u_beta - (np.nansum(g_b_user[i])*alpha)\n",
        "\n",
        "    for j,i_beta in enumerate(beta_item):\n",
        "      beta_item[j] = i_beta - (np.nansum(g_b_item[:,j])*alpha)\n",
        "          \n",
        "\n",
        "    if np.linalg.norm(np.nansum(beta_user - beta_prev_user)) < 0.01 and np.linalg.norm(np.nansum(beta_item - beta_prev_item)) < 0.01:\n",
        "        print(f\"I do early stoping at iteration {iteration}\")\n",
        "        break\n",
        "\n",
        "  return beta_user, beta_item"
      ],
      "metadata": {
        "id": "ZdFY2A9bZUPD"
      },
      "execution_count": 4,
      "outputs": []
    },
    {
      "cell_type": "markdown",
      "source": [
        "# **PART 1**"
      ],
      "metadata": {
        "id": "uiFOPbzmAtji"
      }
    },
    {
      "cell_type": "code",
      "source": [
        "beta_user, beta_item = ls_recommender(r, alpha=0.001)"
      ],
      "metadata": {
        "colab": {
          "base_uri": "https://localhost:8080/"
        },
        "id": "iXJ-F8JCi1Fk",
        "outputId": "d4085dd2-2e3d-4621-c2d0-fe3a967e2e0c"
      },
      "execution_count": 6,
      "outputs": [
        {
          "output_type": "stream",
          "name": "stdout",
          "text": [
            "starting sgd\n"
          ]
        }
      ]
    },
    {
      "cell_type": "code",
      "source": [
        "def calc_err_modified(beta_user, beta_item, r):\n",
        "  residual_sum_of_squares = 0\n",
        "  not_nan_indices = np.argwhere(np.logical_not(np.isnan(r)))\n",
        "  for index in not_nan_indices:\n",
        "    i = index[0]\n",
        "    j = index[1]\n",
        "    y_hat = beta_user[i] + beta_item[j]\n",
        "    y = r[i][j]\n",
        "    residual_sum_of_squares += (y_hat - y) ** 2\n",
        "  error = residual_sum_of_squares/2\n",
        "  return error"
      ],
      "metadata": {
        "id": "VLxvHcjZjcvg"
      },
      "execution_count": 7,
      "outputs": []
    },
    {
      "cell_type": "code",
      "source": [
        "calc_err_modified(beta_user, beta_item, r)"
      ],
      "metadata": {
        "colab": {
          "base_uri": "https://localhost:8080/"
        },
        "id": "u9ujWpJuuhHA",
        "outputId": "572fa41a-df35-4688-a152-a795227642c8"
      },
      "execution_count": 8,
      "outputs": [
        {
          "output_type": "execute_result",
          "data": {
            "text/plain": [
              "41717.92865046914"
            ]
          },
          "metadata": {},
          "execution_count": 8
        }
      ]
    },
    {
      "cell_type": "markdown",
      "source": [
        "# **PART 2**"
      ],
      "metadata": {
        "id": "AHmZdFoScEYW"
      }
    },
    {
      "cell_type": "code",
      "source": [
        "beta_user_modified, beta_item_modified = ls_recommender_modified(r, alpha=0.001, hyperparameter_lambda = 0.01)"
      ],
      "metadata": {
        "colab": {
          "base_uri": "https://localhost:8080/"
        },
        "id": "Rka05bYbcDtB",
        "outputId": "25eecc05-209e-4846-9005-dcc60d7619e5"
      },
      "execution_count": 9,
      "outputs": [
        {
          "output_type": "stream",
          "name": "stdout",
          "text": [
            "starting sgd\n"
          ]
        }
      ]
    },
    {
      "cell_type": "code",
      "source": [
        "def calc_err_modified(beta_user, beta_item, r, hyperparameter_lambda = 0.01):\n",
        "  residual_sum_of_squares = 0\n",
        "  not_nan_indices = np.argwhere(np.logical_not(np.isnan(r)))\n",
        "  for index in not_nan_indices:\n",
        "    i = index[0]\n",
        "    j = index[1]\n",
        "    y_hat = beta_user[i] + beta_item[j]\n",
        "    y = r[i][j]\n",
        "    residual_sum_of_squares += (y_hat - y) ** 2\n",
        "    error_first_part = residual_sum_of_squares/2\n",
        "    error_modified_part = (hyperparameter_lambda * (np.nansum(np.power(beta_user,2)) + np.nansum(np.power(beta_item,2)))) / 2 \n",
        "    error = error_first_part + error_modified_part\n",
        "  return error\n"
      ],
      "metadata": {
        "id": "L8h8GKnrq98a"
      },
      "execution_count": 12,
      "outputs": []
    },
    {
      "cell_type": "code",
      "source": [
        "calc_err_modified(beta_user_modified, beta_item_modified, r, 0.01)"
      ],
      "metadata": {
        "colab": {
          "base_uri": "https://localhost:8080/"
        },
        "id": "pyMhsl56r7D_",
        "outputId": "befab18c-219b-4945-a8b7-4b54dbbdd2c9"
      },
      "execution_count": 13,
      "outputs": [
        {
          "output_type": "execute_result",
          "data": {
            "text/plain": [
              "1.1716775550052553e+240"
            ]
          },
          "metadata": {},
          "execution_count": 13
        }
      ]
    }
  ]
}