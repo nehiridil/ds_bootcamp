{
  "nbformat": 4,
  "nbformat_minor": 0,
  "metadata": {
    "colab": {
      "name": "youdo2.ipynb",
      "provenance": [],
      "collapsed_sections": []
    },
    "kernelspec": {
      "name": "python3",
      "display_name": "Python 3"
    },
    "language_info": {
      "name": "python"
    }
  },
  "cells": [
    {
      "cell_type": "code",
      "source": [
        "import pandas as pd\n",
        "import numpy as np"
      ],
      "metadata": {
        "id": "aXWAfMD-KAVH"
      },
      "execution_count": 1,
      "outputs": []
    },
    {
      "cell_type": "code",
      "execution_count": 16,
      "metadata": {
        "colab": {
          "base_uri": "https://localhost:8080/"
        },
        "id": "YVQTCn0GJ6aI",
        "outputId": "8b33943c-bb30-4e0e-9827-be3cb2e68c49"
      },
      "outputs": [
        {
          "output_type": "stream",
          "name": "stderr",
          "text": [
            "/usr/local/lib/python3.7/dist-packages/pandas/util/_decorators.py:311: ParserWarning: Falling back to the 'python' engine because the 'c' engine does not support regex separators (separators > 1 char and different from '\\s+' are interpreted as regex); you can avoid this warning by specifying engine='python'.\n",
            "  return func(*args, **kwargs)\n"
          ]
        }
      ],
      "source": [
        "df = pd.read_csv('https://files.grouplens.org/datasets/movielens/ml-100k/u.data', delimiter=r'\\t',\n",
        "                 names=['user_id', 'item_id', 'rating', 'timestamp']) \n",
        " \n",
        "r = df.pivot(index='user_id', columns='item_id', values='rating').values"
      ]
    },
    {
      "cell_type": "code",
      "source": [
        "def ls_recommender(r, alpha=0.001) -> np.ndarray:\n",
        "  beta_user = np.random.random(len(r))\n",
        "  beta_item = np.random.random(len(r[0]))\n",
        "  not_nan_indices = np.argwhere(np.logical_not(np.isnan(r)))\n",
        "\n",
        "  print(\"starting sgd\")\n",
        "  y_pred = np.ones(r.shape) * np.nan\n",
        "\n",
        "  for iteration in range(1000):\n",
        "    for index in not_nan_indices:\n",
        "      y_pred[index[0]][index[1]] = beta_user[index[0]] + beta_item[index[1]]\n",
        "\n",
        "    g_b0 = -1 * np.nansum(np.dstack((r,-y_pred)),2)\n",
        "    g_b1 = -1 * np.nansum(np.dstack((r,-y_pred)),2)\n",
        "\n",
        "    #print(f\"({i}) beta_user: {beta_user}, beta_item: {beta_item}, gradient: {g_b0} {g_b1}\")\n",
        "\n",
        "    beta_prev_user = np.copy(beta_user)\n",
        "    beta_prev_item = np.copy(beta_item)\n",
        "\n",
        "    for i,u_beta in enumerate(beta_user):\n",
        "      beta_user[i] = u_beta - (np.nansum(g_b0[i])*alpha)\n",
        "\n",
        "    for j,i_beta in enumerate(beta_item):\n",
        "      beta_item[j] = i_beta - (np.nansum(g_b1[:,j])*alpha)\n",
        "          \n",
        "\n",
        "    if np.linalg.norm(beta_user - beta_prev_user) < 0.0001 and np.linalg.norm(beta_item - beta_prev_item) < 0.0001:\n",
        "        print(f\"I do early stoping at iteration {iteration}\")\n",
        "        break\n",
        "\n",
        "  return beta_user, beta_item, y_pred"
      ],
      "metadata": {
        "id": "5pENRHXCTrbq"
      },
      "execution_count": 26,
      "outputs": []
    },
    {
      "cell_type": "markdown",
      "source": [
        "# **PART 1**"
      ],
      "metadata": {
        "id": "uiFOPbzmAtji"
      }
    },
    {
      "cell_type": "code",
      "source": [
        "beta_user, beta_item, y_pred = ls_recommender(r, alpha=0.001)"
      ],
      "metadata": {
        "colab": {
          "base_uri": "https://localhost:8080/"
        },
        "id": "iXJ-F8JCi1Fk",
        "outputId": "ed812213-3f83-491e-804d-ded79c177392"
      },
      "execution_count": 27,
      "outputs": [
        {
          "output_type": "stream",
          "name": "stdout",
          "text": [
            "starting sgd\n"
          ]
        }
      ]
    },
    {
      "cell_type": "code",
      "source": [
        "residual_sum_of_squares = 0\n",
        "for index in not_nan_indices:\n",
        "  i = index[0]\n",
        "  j = index[1]\n",
        "  y_hat = beta_user[i] + beta_item[j]\n",
        "  y = r[i][j]\n",
        "  residual_sum_of_squares += (y_hat - y) ** 2\n",
        "error = residual_sum_of_squares/2\n",
        "print(f\"Error: {error}\")"
      ],
      "metadata": {
        "colab": {
          "base_uri": "https://localhost:8080/"
        },
        "id": "VLxvHcjZjcvg",
        "outputId": "a0a5ae2d-991a-43ba-d39f-b6e2b625f013"
      },
      "execution_count": 28,
      "outputs": [
        {
          "output_type": "stream",
          "name": "stdout",
          "text": [
            "Error: 41717.13740451933\n"
          ]
        }
      ]
    }
  ]
}