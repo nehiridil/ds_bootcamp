{
  "nbformat": 4,
  "nbformat_minor": 0,
  "metadata": {
    "colab": {
      "name": "ty_project.ipynb",
      "provenance": [],
      "collapsed_sections": []
    },
    "kernelspec": {
      "name": "python3",
      "display_name": "Python 3"
    },
    "language_info": {
      "name": "python"
    }
  },
  "cells": [
    {
      "cell_type": "code",
      "source": [
        "import pandas as pd\n",
        "import pickle\n",
        "import numpy as np\n",
        "from google.colab import drive\n",
        "from datetime import datetime, timedelta\n",
        "drive.mount('/content/drive')\n",
        "pickle_path = '/content/drive/MyDrive/trendyol_bootcamp_capstone/'"
      ],
      "metadata": {
        "id": "PtJn_wOcVEu0",
        "colab": {
          "base_uri": "https://localhost:8080/"
        },
        "outputId": "1541fd77-95be-4668-8f04-dc6918f07ed4"
      },
      "execution_count": 1,
      "outputs": [
        {
          "output_type": "stream",
          "name": "stdout",
          "text": [
            "Drive already mounted at /content/drive; to attempt to forcibly remount, call drive.mount(\"/content/drive\", force_remount=True).\n"
          ]
        }
      ]
    },
    {
      "cell_type": "code",
      "source": [
        "def save_pickle(filename, data):\n",
        "  outfile = open(pickle_path + filename,'wb')\n",
        "  pickle.dump(data,outfile)\n",
        "  outfile.close()"
      ],
      "metadata": {
        "id": "hsLIN-GCDJ8h"
      },
      "execution_count": 2,
      "outputs": []
    },
    {
      "cell_type": "code",
      "source": [
        "def load_pickle(filename):\n",
        "  infile = open(pickle_path+filename,'rb')\n",
        "  loaded_data = pickle.load(infile)\n",
        "  infile.close()\n",
        "  return loaded_data"
      ],
      "metadata": {
        "id": "CDt1mOUIDNph"
      },
      "execution_count": 3,
      "outputs": []
    },
    {
      "cell_type": "code",
      "source": [
        "'''\n",
        "articles_path =  'https://storage.googleapis.com/gm-datascience-share/capstone/articles.csv.gz'\n",
        "customers_path = 'https://storage.googleapis.com/gm-datascience-share/capstone/customers.csv.gz'\n",
        "transactions_path = 'https://storage.googleapis.com/gm-datascience-share/capstone/transactions.csv.gz'\n",
        "\n",
        "articles_df = pd.read_csv(articles_path)\n",
        "customers_df = pd.read_csv(customers_path)\n",
        "transactions_df = pd.read_csv(transactions_path)\n",
        "\n",
        "save_pickle(pickle_path + 'articles.pickle',articles_df)\n",
        "save_pickle(pickle_path + 'customers.pickle', customers_df)\n",
        "save_pickle(pickle_path + 'transactions.pickle', transactions_df)\n",
        "'''"
      ],
      "metadata": {
        "id": "nCYy7blTYZiL",
        "colab": {
          "base_uri": "https://localhost:8080/",
          "height": 105
        },
        "outputId": "273faa90-eec8-4ba8-b86a-bbd38650806c"
      },
      "execution_count": 4,
      "outputs": [
        {
          "output_type": "execute_result",
          "data": {
            "text/plain": [
              "\"\\narticles_path =  'https://storage.googleapis.com/gm-datascience-share/capstone/articles.csv.gz'\\ncustomers_path = 'https://storage.googleapis.com/gm-datascience-share/capstone/customers.csv.gz'\\ntransactions_path = 'https://storage.googleapis.com/gm-datascience-share/capstone/transactions.csv.gz'\\n\\narticles_df = pd.read_csv(articles_path)\\ncustomers_df = pd.read_csv(customers_path)\\ntransactions_df = pd.read_csv(transactions_path)\\n\\nsave_pickle(pickle_path + 'articles.pickle',articles_df)\\nsave_pickle(pickle_path + 'customers.pickle', customers_df)\\nsave_pickle(pickle_path + 'transactions.pickle', transactions_df)\\n\""
            ],
            "application/vnd.google.colaboratory.intrinsic+json": {
              "type": "string"
            }
          },
          "metadata": {},
          "execution_count": 4
        }
      ]
    },
    {
      "cell_type": "code",
      "source": [
        "articles_df = load_pickle('articles.pickle')\n",
        "customers_df = load_pickle('customers.pickle')\n",
        "transactions_df = load_pickle('transactions.pickle')"
      ],
      "metadata": {
        "id": "0MGzIfDKVMbp"
      },
      "execution_count": 67,
      "outputs": []
    },
    {
      "cell_type": "code",
      "source": [
        "#hiç satın alınmamış ürünler ve satın almamış customerlarla ilgilenmiyoruz\n",
        "#cold start problemi, onlar için farklı modeller kullanılmalı\n",
        "customers_in_transactions = set(list(transactions_df['customer_id']))\n",
        "customers_df = customers_df[customers_df['customer_id'].isin(customers_in_transactions)]\n",
        "\n",
        "articles_in_transactions = set(list(transactions_df['article_id']))\n",
        "articles_df = articles_df[articles_df['article_id'].isin(articles_in_transactions)]\n"
      ],
      "metadata": {
        "id": "1xeXRXqjs9yG"
      },
      "execution_count": 6,
      "outputs": []
    },
    {
      "cell_type": "code",
      "source": [
        "def text_to_categorical(df,column_name):\n",
        "  one_hot_encoded_df = pd.get_dummies(df[column_name])\n",
        "  df =pd.concat([df, one_hot_encoded_df], axis=1)\n",
        "  df.drop(columns=[column_name], inplace = True)\n",
        "  return df\n"
      ],
      "metadata": {
        "id": "_toLlOrs3ss8"
      },
      "execution_count": 7,
      "outputs": []
    },
    {
      "cell_type": "code",
      "source": [
        "from sklearn.preprocessing import StandardScaler\n",
        "def standardize_column(df, column_name):\n",
        "  x = customers_df.loc[:, [column_name]].values\n",
        "  df[column_name] = StandardScaler().fit_transform(x)\n",
        "  return df"
      ],
      "metadata": {
        "id": "Abj0cpOV4XTt"
      },
      "execution_count": 8,
      "outputs": []
    },
    {
      "cell_type": "code",
      "source": [
        "from sklearn.decomposition import PCA\n",
        "def get_principle_components(df,n):\n",
        "  pca = PCA(n_components=n)\n",
        "  principal_components = pca.fit_transform(df)\n",
        "  return principal_components\n"
      ],
      "metadata": {
        "id": "8PKufhgr41yY"
      },
      "execution_count": 9,
      "outputs": []
    },
    {
      "cell_type": "markdown",
      "source": [
        "# **TRANSACTIONS**"
      ],
      "metadata": {
        "id": "xXiwrFSQ3hE-"
      }
    },
    {
      "cell_type": "code",
      "source": [
        "'''\n",
        "transactions_df['t_dat'] =  pd.to_datetime(transactions_df['t_dat'], format='%Y-%m-%d')\n",
        "#train test split\n",
        "transaction_count = len(transactions_df['t_dat'])\n",
        "validation_data_start_date = transactions_df['t_dat'][transaction_count-1] - timedelta(days=14)\n",
        "test_data_start_date = transactions_df['t_dat'][transaction_count-1] - timedelta(days=6)\n",
        "between_13_7_condition = np.logical_and(transactions_df['t_dat']<test_data_start_date,transactions_df['t_dat']>validation_data_start_date)\n",
        "validation_data = transactions_df[between_13_7_condition]\n",
        "test_data = transactions_df[transactions_df['t_dat'] >= test_data_start_date]\n",
        "train_data = transactions_df[transactions_df['t_dat'] <= validation_data_start_date]\n",
        "save_pickle('test_data.pickle', test_data)\n",
        "save_pickle('train_data.pickle', train_data)\n",
        "save_pickle('validation_data.pickle', validation_data)\n",
        "'''"
      ],
      "metadata": {
        "id": "ZQDBQpJuSeIV",
        "colab": {
          "base_uri": "https://localhost:8080/",
          "height": 122
        },
        "outputId": "6454fdc0-c952-44a6-a9df-435945b57a61"
      },
      "execution_count": 10,
      "outputs": [
        {
          "output_type": "execute_result",
          "data": {
            "text/plain": [
              "\"\\ntransactions_df['t_dat'] =  pd.to_datetime(transactions_df['t_dat'], format='%Y-%m-%d')\\n#train test split\\ntransaction_count = len(transactions_df['t_dat'])\\nvalidation_data_start_date = transactions_df['t_dat'][transaction_count-1] - timedelta(days=14)\\ntest_data_start_date = transactions_df['t_dat'][transaction_count-1] - timedelta(days=6)\\nbetween_13_7_condition = np.logical_and(transactions_df['t_dat']<test_data_start_date,transactions_df['t_dat']>validation_data_start_date)\\nvalidation_data = transactions_df[between_13_7_condition]\\ntest_data = transactions_df[transactions_df['t_dat'] >= test_data_start_date]\\ntrain_data = transactions_df[transactions_df['t_dat'] <= validation_data_start_date]\\nsave_pickle('test_data.pickle', test_data)\\nsave_pickle('train_data.pickle', train_data)\\nsave_pickle('validation_data.pickle', validation_data)\\n\""
            ],
            "application/vnd.google.colaboratory.intrinsic+json": {
              "type": "string"
            }
          },
          "metadata": {},
          "execution_count": 10
        }
      ]
    },
    {
      "cell_type": "code",
      "source": [
        "test_data = load_pickle('test_data.pickle')\n",
        "train_data = load_pickle('train_data.pickle')\n",
        "validation_data = load_pickle('validation_data.pickle')\n",
        "\n",
        "test_data.reset_index(drop=True,inplace=True)\n",
        "validation_data.reset_index(drop=True,inplace=True)"
      ],
      "metadata": {
        "id": "8huSlnVoZXFB"
      },
      "execution_count": 11,
      "outputs": []
    },
    {
      "cell_type": "code",
      "source": [
        "set(test_data['t_dat'])"
      ],
      "metadata": {
        "colab": {
          "base_uri": "https://localhost:8080/"
        },
        "id": "J6dfJmejVVUU",
        "outputId": "9a7f167a-1d02-4d55-ac7f-39aeb59e441d"
      },
      "execution_count": 12,
      "outputs": [
        {
          "output_type": "execute_result",
          "data": {
            "text/plain": [
              "{Timestamp('2020-09-16 00:00:00'),\n",
              " Timestamp('2020-09-17 00:00:00'),\n",
              " Timestamp('2020-09-18 00:00:00'),\n",
              " Timestamp('2020-09-19 00:00:00'),\n",
              " Timestamp('2020-09-20 00:00:00'),\n",
              " Timestamp('2020-09-21 00:00:00'),\n",
              " Timestamp('2020-09-22 00:00:00')}"
            ]
          },
          "metadata": {},
          "execution_count": 12
        }
      ]
    },
    {
      "cell_type": "code",
      "source": [
        "set(validation_data['t_dat'])"
      ],
      "metadata": {
        "colab": {
          "base_uri": "https://localhost:8080/"
        },
        "id": "qRKbbZGMX2H6",
        "outputId": "b15f2703-0cb8-4e3c-d513-df80ceff3baf"
      },
      "execution_count": 13,
      "outputs": [
        {
          "output_type": "execute_result",
          "data": {
            "text/plain": [
              "{Timestamp('2020-09-09 00:00:00'),\n",
              " Timestamp('2020-09-10 00:00:00'),\n",
              " Timestamp('2020-09-11 00:00:00'),\n",
              " Timestamp('2020-09-12 00:00:00'),\n",
              " Timestamp('2020-09-13 00:00:00'),\n",
              " Timestamp('2020-09-14 00:00:00'),\n",
              " Timestamp('2020-09-15 00:00:00')}"
            ]
          },
          "metadata": {},
          "execution_count": 13
        }
      ]
    },
    {
      "cell_type": "code",
      "source": [
        "first_date = train_data['t_dat'][0]\n",
        "type(first_date)"
      ],
      "metadata": {
        "colab": {
          "base_uri": "https://localhost:8080/"
        },
        "id": "5uL9-q-pVLgi",
        "outputId": "07b58410-b2c6-4548-b334-f8abfc900c49"
      },
      "execution_count": 45,
      "outputs": [
        {
          "output_type": "execute_result",
          "data": {
            "text/plain": [
              "pandas._libs.tslibs.timestamps.Timestamp"
            ]
          },
          "metadata": {},
          "execution_count": 45
        }
      ]
    },
    {
      "cell_type": "code",
      "source": [
        "season1_start = train_data['t_dat'][0]\n",
        "season2_start = train_data['t_dat'][0] + timedelta(days=180)"
      ],
      "metadata": {
        "id": "A1Ov_hIzTxcs"
      },
      "execution_count": 46,
      "outputs": []
    },
    {
      "cell_type": "code",
      "source": [
        "season_2_df = train_data[train_data['t_dat']>=season2_start]\n",
        "season_2_df"
      ],
      "metadata": {
        "colab": {
          "base_uri": "https://localhost:8080/",
          "height": 423
        },
        "id": "f_d47s3OWzp4",
        "outputId": "9097104d-3cc2-48b8-fa75-5a7a788d8222"
      },
      "execution_count": 58,
      "outputs": [
        {
          "output_type": "execute_result",
          "data": {
            "text/plain": [
              "              t_dat                                        customer_id  \\\n",
              "7541624  2019-03-19  00201f34c8c92683263346d78c2b45ffd0c6927229542d...   \n",
              "7541625  2019-03-19  00201f34c8c92683263346d78c2b45ffd0c6927229542d...   \n",
              "7541626  2019-03-19  00201f34c8c92683263346d78c2b45ffd0c6927229542d...   \n",
              "7541627  2019-03-19  00201f34c8c92683263346d78c2b45ffd0c6927229542d...   \n",
              "7541628  2019-03-19  00201f34c8c92683263346d78c2b45ffd0c6927229542d...   \n",
              "...             ...                                                ...   \n",
              "31292767 2020-09-08  fff2282977442e327b45d8c89afde25617d00124d0f999...   \n",
              "31292768 2020-09-08  fffbdd2f8e59d45c0fb50a14b0ea555f7daa5307b3f922...   \n",
              "31292769 2020-09-08  ffffcf35913a0bee60e8741cb2b4e78b8a98ee5ff2e6a1...   \n",
              "31292770 2020-09-08  ffffcf35913a0bee60e8741cb2b4e78b8a98ee5ff2e6a1...   \n",
              "31292771 2020-09-08  ffffcf35913a0bee60e8741cb2b4e78b8a98ee5ff2e6a1...   \n",
              "\n",
              "          article_id     price  sales_channel_id  \n",
              "7541624    542533001  0.033881                 2  \n",
              "7541625    464277014  0.022017                 2  \n",
              "7541626    542533002  0.033881                 2  \n",
              "7541627    573626001  0.033881                 2  \n",
              "7541628    573626001  0.033881                 2  \n",
              "...              ...       ...               ...  \n",
              "31292767   919786002  0.042356                 2  \n",
              "31292768   765308002  0.033881                 2  \n",
              "31292769   689365050  0.010017                 2  \n",
              "31292770   884081001  0.012898                 2  \n",
              "31292771   794819001  0.014322                 2  \n",
              "\n",
              "[23751148 rows x 5 columns]"
            ],
            "text/html": [
              "\n",
              "  <div id=\"df-f56c300e-08f1-46d9-b8be-2eb25b53ebfe\">\n",
              "    <div class=\"colab-df-container\">\n",
              "      <div>\n",
              "<style scoped>\n",
              "    .dataframe tbody tr th:only-of-type {\n",
              "        vertical-align: middle;\n",
              "    }\n",
              "\n",
              "    .dataframe tbody tr th {\n",
              "        vertical-align: top;\n",
              "    }\n",
              "\n",
              "    .dataframe thead th {\n",
              "        text-align: right;\n",
              "    }\n",
              "</style>\n",
              "<table border=\"1\" class=\"dataframe\">\n",
              "  <thead>\n",
              "    <tr style=\"text-align: right;\">\n",
              "      <th></th>\n",
              "      <th>t_dat</th>\n",
              "      <th>customer_id</th>\n",
              "      <th>article_id</th>\n",
              "      <th>price</th>\n",
              "      <th>sales_channel_id</th>\n",
              "    </tr>\n",
              "  </thead>\n",
              "  <tbody>\n",
              "    <tr>\n",
              "      <th>7541624</th>\n",
              "      <td>2019-03-19</td>\n",
              "      <td>00201f34c8c92683263346d78c2b45ffd0c6927229542d...</td>\n",
              "      <td>542533001</td>\n",
              "      <td>0.033881</td>\n",
              "      <td>2</td>\n",
              "    </tr>\n",
              "    <tr>\n",
              "      <th>7541625</th>\n",
              "      <td>2019-03-19</td>\n",
              "      <td>00201f34c8c92683263346d78c2b45ffd0c6927229542d...</td>\n",
              "      <td>464277014</td>\n",
              "      <td>0.022017</td>\n",
              "      <td>2</td>\n",
              "    </tr>\n",
              "    <tr>\n",
              "      <th>7541626</th>\n",
              "      <td>2019-03-19</td>\n",
              "      <td>00201f34c8c92683263346d78c2b45ffd0c6927229542d...</td>\n",
              "      <td>542533002</td>\n",
              "      <td>0.033881</td>\n",
              "      <td>2</td>\n",
              "    </tr>\n",
              "    <tr>\n",
              "      <th>7541627</th>\n",
              "      <td>2019-03-19</td>\n",
              "      <td>00201f34c8c92683263346d78c2b45ffd0c6927229542d...</td>\n",
              "      <td>573626001</td>\n",
              "      <td>0.033881</td>\n",
              "      <td>2</td>\n",
              "    </tr>\n",
              "    <tr>\n",
              "      <th>7541628</th>\n",
              "      <td>2019-03-19</td>\n",
              "      <td>00201f34c8c92683263346d78c2b45ffd0c6927229542d...</td>\n",
              "      <td>573626001</td>\n",
              "      <td>0.033881</td>\n",
              "      <td>2</td>\n",
              "    </tr>\n",
              "    <tr>\n",
              "      <th>...</th>\n",
              "      <td>...</td>\n",
              "      <td>...</td>\n",
              "      <td>...</td>\n",
              "      <td>...</td>\n",
              "      <td>...</td>\n",
              "    </tr>\n",
              "    <tr>\n",
              "      <th>31292767</th>\n",
              "      <td>2020-09-08</td>\n",
              "      <td>fff2282977442e327b45d8c89afde25617d00124d0f999...</td>\n",
              "      <td>919786002</td>\n",
              "      <td>0.042356</td>\n",
              "      <td>2</td>\n",
              "    </tr>\n",
              "    <tr>\n",
              "      <th>31292768</th>\n",
              "      <td>2020-09-08</td>\n",
              "      <td>fffbdd2f8e59d45c0fb50a14b0ea555f7daa5307b3f922...</td>\n",
              "      <td>765308002</td>\n",
              "      <td>0.033881</td>\n",
              "      <td>2</td>\n",
              "    </tr>\n",
              "    <tr>\n",
              "      <th>31292769</th>\n",
              "      <td>2020-09-08</td>\n",
              "      <td>ffffcf35913a0bee60e8741cb2b4e78b8a98ee5ff2e6a1...</td>\n",
              "      <td>689365050</td>\n",
              "      <td>0.010017</td>\n",
              "      <td>2</td>\n",
              "    </tr>\n",
              "    <tr>\n",
              "      <th>31292770</th>\n",
              "      <td>2020-09-08</td>\n",
              "      <td>ffffcf35913a0bee60e8741cb2b4e78b8a98ee5ff2e6a1...</td>\n",
              "      <td>884081001</td>\n",
              "      <td>0.012898</td>\n",
              "      <td>2</td>\n",
              "    </tr>\n",
              "    <tr>\n",
              "      <th>31292771</th>\n",
              "      <td>2020-09-08</td>\n",
              "      <td>ffffcf35913a0bee60e8741cb2b4e78b8a98ee5ff2e6a1...</td>\n",
              "      <td>794819001</td>\n",
              "      <td>0.014322</td>\n",
              "      <td>2</td>\n",
              "    </tr>\n",
              "  </tbody>\n",
              "</table>\n",
              "<p>23751148 rows × 5 columns</p>\n",
              "</div>\n",
              "      <button class=\"colab-df-convert\" onclick=\"convertToInteractive('df-f56c300e-08f1-46d9-b8be-2eb25b53ebfe')\"\n",
              "              title=\"Convert this dataframe to an interactive table.\"\n",
              "              style=\"display:none;\">\n",
              "        \n",
              "  <svg xmlns=\"http://www.w3.org/2000/svg\" height=\"24px\"viewBox=\"0 0 24 24\"\n",
              "       width=\"24px\">\n",
              "    <path d=\"M0 0h24v24H0V0z\" fill=\"none\"/>\n",
              "    <path d=\"M18.56 5.44l.94 2.06.94-2.06 2.06-.94-2.06-.94-.94-2.06-.94 2.06-2.06.94zm-11 1L8.5 8.5l.94-2.06 2.06-.94-2.06-.94L8.5 2.5l-.94 2.06-2.06.94zm10 10l.94 2.06.94-2.06 2.06-.94-2.06-.94-.94-2.06-.94 2.06-2.06.94z\"/><path d=\"M17.41 7.96l-1.37-1.37c-.4-.4-.92-.59-1.43-.59-.52 0-1.04.2-1.43.59L10.3 9.45l-7.72 7.72c-.78.78-.78 2.05 0 2.83L4 21.41c.39.39.9.59 1.41.59.51 0 1.02-.2 1.41-.59l7.78-7.78 2.81-2.81c.8-.78.8-2.07 0-2.86zM5.41 20L4 18.59l7.72-7.72 1.47 1.35L5.41 20z\"/>\n",
              "  </svg>\n",
              "      </button>\n",
              "      \n",
              "  <style>\n",
              "    .colab-df-container {\n",
              "      display:flex;\n",
              "      flex-wrap:wrap;\n",
              "      gap: 12px;\n",
              "    }\n",
              "\n",
              "    .colab-df-convert {\n",
              "      background-color: #E8F0FE;\n",
              "      border: none;\n",
              "      border-radius: 50%;\n",
              "      cursor: pointer;\n",
              "      display: none;\n",
              "      fill: #1967D2;\n",
              "      height: 32px;\n",
              "      padding: 0 0 0 0;\n",
              "      width: 32px;\n",
              "    }\n",
              "\n",
              "    .colab-df-convert:hover {\n",
              "      background-color: #E2EBFA;\n",
              "      box-shadow: 0px 1px 2px rgba(60, 64, 67, 0.3), 0px 1px 3px 1px rgba(60, 64, 67, 0.15);\n",
              "      fill: #174EA6;\n",
              "    }\n",
              "\n",
              "    [theme=dark] .colab-df-convert {\n",
              "      background-color: #3B4455;\n",
              "      fill: #D2E3FC;\n",
              "    }\n",
              "\n",
              "    [theme=dark] .colab-df-convert:hover {\n",
              "      background-color: #434B5C;\n",
              "      box-shadow: 0px 1px 3px 1px rgba(0, 0, 0, 0.15);\n",
              "      filter: drop-shadow(0px 1px 2px rgba(0, 0, 0, 0.3));\n",
              "      fill: #FFFFFF;\n",
              "    }\n",
              "  </style>\n",
              "\n",
              "      <script>\n",
              "        const buttonEl =\n",
              "          document.querySelector('#df-f56c300e-08f1-46d9-b8be-2eb25b53ebfe button.colab-df-convert');\n",
              "        buttonEl.style.display =\n",
              "          google.colab.kernel.accessAllowed ? 'block' : 'none';\n",
              "\n",
              "        async function convertToInteractive(key) {\n",
              "          const element = document.querySelector('#df-f56c300e-08f1-46d9-b8be-2eb25b53ebfe');\n",
              "          const dataTable =\n",
              "            await google.colab.kernel.invokeFunction('convertToInteractive',\n",
              "                                                     [key], {});\n",
              "          if (!dataTable) return;\n",
              "\n",
              "          const docLinkHtml = 'Like what you see? Visit the ' +\n",
              "            '<a target=\"_blank\" href=https://colab.research.google.com/notebooks/data_table.ipynb>data table notebook</a>'\n",
              "            + ' to learn more about interactive tables.';\n",
              "          element.innerHTML = '';\n",
              "          dataTable['output_type'] = 'display_data';\n",
              "          await google.colab.output.renderOutput(dataTable, element);\n",
              "          const docLink = document.createElement('div');\n",
              "          docLink.innerHTML = docLinkHtml;\n",
              "          element.appendChild(docLink);\n",
              "        }\n",
              "      </script>\n",
              "    </div>\n",
              "  </div>\n",
              "  "
            ]
          },
          "metadata": {},
          "execution_count": 58
        }
      ]
    },
    {
      "cell_type": "code",
      "source": [
        "season_1_condition = np.logical_and(train_data['t_dat']<season2_start , train_data['t_dat']>=season1_start)\n",
        "season_1_df = train_data[season_1_condition]\n",
        "season_1_df.head()"
      ],
      "metadata": {
        "colab": {
          "base_uri": "https://localhost:8080/",
          "height": 206
        },
        "id": "j5aiewwVUrID",
        "outputId": "4d3cda50-ab48-4196-b5c8-092ddab99de5"
      },
      "execution_count": 49,
      "outputs": [
        {
          "output_type": "execute_result",
          "data": {
            "text/plain": [
              "       t_dat                                        customer_id  article_id  \\\n",
              "0 2018-09-20  000058a12d5b43e67d225668fa1f8d618c13dc232df0ca...   663713001   \n",
              "1 2018-09-20  000058a12d5b43e67d225668fa1f8d618c13dc232df0ca...   541518023   \n",
              "2 2018-09-20  00007d2de826758b65a93dd24ce629ed66842531df6699...   505221004   \n",
              "3 2018-09-20  00007d2de826758b65a93dd24ce629ed66842531df6699...   685687003   \n",
              "4 2018-09-20  00007d2de826758b65a93dd24ce629ed66842531df6699...   685687004   \n",
              "\n",
              "      price  sales_channel_id  \n",
              "0  0.050831                 2  \n",
              "1  0.030492                 2  \n",
              "2  0.015237                 2  \n",
              "3  0.016932                 2  \n",
              "4  0.016932                 2  "
            ],
            "text/html": [
              "\n",
              "  <div id=\"df-9bd9e278-4b94-49f4-ab29-6586bbb8bb8b\">\n",
              "    <div class=\"colab-df-container\">\n",
              "      <div>\n",
              "<style scoped>\n",
              "    .dataframe tbody tr th:only-of-type {\n",
              "        vertical-align: middle;\n",
              "    }\n",
              "\n",
              "    .dataframe tbody tr th {\n",
              "        vertical-align: top;\n",
              "    }\n",
              "\n",
              "    .dataframe thead th {\n",
              "        text-align: right;\n",
              "    }\n",
              "</style>\n",
              "<table border=\"1\" class=\"dataframe\">\n",
              "  <thead>\n",
              "    <tr style=\"text-align: right;\">\n",
              "      <th></th>\n",
              "      <th>t_dat</th>\n",
              "      <th>customer_id</th>\n",
              "      <th>article_id</th>\n",
              "      <th>price</th>\n",
              "      <th>sales_channel_id</th>\n",
              "    </tr>\n",
              "  </thead>\n",
              "  <tbody>\n",
              "    <tr>\n",
              "      <th>0</th>\n",
              "      <td>2018-09-20</td>\n",
              "      <td>000058a12d5b43e67d225668fa1f8d618c13dc232df0ca...</td>\n",
              "      <td>663713001</td>\n",
              "      <td>0.050831</td>\n",
              "      <td>2</td>\n",
              "    </tr>\n",
              "    <tr>\n",
              "      <th>1</th>\n",
              "      <td>2018-09-20</td>\n",
              "      <td>000058a12d5b43e67d225668fa1f8d618c13dc232df0ca...</td>\n",
              "      <td>541518023</td>\n",
              "      <td>0.030492</td>\n",
              "      <td>2</td>\n",
              "    </tr>\n",
              "    <tr>\n",
              "      <th>2</th>\n",
              "      <td>2018-09-20</td>\n",
              "      <td>00007d2de826758b65a93dd24ce629ed66842531df6699...</td>\n",
              "      <td>505221004</td>\n",
              "      <td>0.015237</td>\n",
              "      <td>2</td>\n",
              "    </tr>\n",
              "    <tr>\n",
              "      <th>3</th>\n",
              "      <td>2018-09-20</td>\n",
              "      <td>00007d2de826758b65a93dd24ce629ed66842531df6699...</td>\n",
              "      <td>685687003</td>\n",
              "      <td>0.016932</td>\n",
              "      <td>2</td>\n",
              "    </tr>\n",
              "    <tr>\n",
              "      <th>4</th>\n",
              "      <td>2018-09-20</td>\n",
              "      <td>00007d2de826758b65a93dd24ce629ed66842531df6699...</td>\n",
              "      <td>685687004</td>\n",
              "      <td>0.016932</td>\n",
              "      <td>2</td>\n",
              "    </tr>\n",
              "  </tbody>\n",
              "</table>\n",
              "</div>\n",
              "      <button class=\"colab-df-convert\" onclick=\"convertToInteractive('df-9bd9e278-4b94-49f4-ab29-6586bbb8bb8b')\"\n",
              "              title=\"Convert this dataframe to an interactive table.\"\n",
              "              style=\"display:none;\">\n",
              "        \n",
              "  <svg xmlns=\"http://www.w3.org/2000/svg\" height=\"24px\"viewBox=\"0 0 24 24\"\n",
              "       width=\"24px\">\n",
              "    <path d=\"M0 0h24v24H0V0z\" fill=\"none\"/>\n",
              "    <path d=\"M18.56 5.44l.94 2.06.94-2.06 2.06-.94-2.06-.94-.94-2.06-.94 2.06-2.06.94zm-11 1L8.5 8.5l.94-2.06 2.06-.94-2.06-.94L8.5 2.5l-.94 2.06-2.06.94zm10 10l.94 2.06.94-2.06 2.06-.94-2.06-.94-.94-2.06-.94 2.06-2.06.94z\"/><path d=\"M17.41 7.96l-1.37-1.37c-.4-.4-.92-.59-1.43-.59-.52 0-1.04.2-1.43.59L10.3 9.45l-7.72 7.72c-.78.78-.78 2.05 0 2.83L4 21.41c.39.39.9.59 1.41.59.51 0 1.02-.2 1.41-.59l7.78-7.78 2.81-2.81c.8-.78.8-2.07 0-2.86zM5.41 20L4 18.59l7.72-7.72 1.47 1.35L5.41 20z\"/>\n",
              "  </svg>\n",
              "      </button>\n",
              "      \n",
              "  <style>\n",
              "    .colab-df-container {\n",
              "      display:flex;\n",
              "      flex-wrap:wrap;\n",
              "      gap: 12px;\n",
              "    }\n",
              "\n",
              "    .colab-df-convert {\n",
              "      background-color: #E8F0FE;\n",
              "      border: none;\n",
              "      border-radius: 50%;\n",
              "      cursor: pointer;\n",
              "      display: none;\n",
              "      fill: #1967D2;\n",
              "      height: 32px;\n",
              "      padding: 0 0 0 0;\n",
              "      width: 32px;\n",
              "    }\n",
              "\n",
              "    .colab-df-convert:hover {\n",
              "      background-color: #E2EBFA;\n",
              "      box-shadow: 0px 1px 2px rgba(60, 64, 67, 0.3), 0px 1px 3px 1px rgba(60, 64, 67, 0.15);\n",
              "      fill: #174EA6;\n",
              "    }\n",
              "\n",
              "    [theme=dark] .colab-df-convert {\n",
              "      background-color: #3B4455;\n",
              "      fill: #D2E3FC;\n",
              "    }\n",
              "\n",
              "    [theme=dark] .colab-df-convert:hover {\n",
              "      background-color: #434B5C;\n",
              "      box-shadow: 0px 1px 3px 1px rgba(0, 0, 0, 0.15);\n",
              "      filter: drop-shadow(0px 1px 2px rgba(0, 0, 0, 0.3));\n",
              "      fill: #FFFFFF;\n",
              "    }\n",
              "  </style>\n",
              "\n",
              "      <script>\n",
              "        const buttonEl =\n",
              "          document.querySelector('#df-9bd9e278-4b94-49f4-ab29-6586bbb8bb8b button.colab-df-convert');\n",
              "        buttonEl.style.display =\n",
              "          google.colab.kernel.accessAllowed ? 'block' : 'none';\n",
              "\n",
              "        async function convertToInteractive(key) {\n",
              "          const element = document.querySelector('#df-9bd9e278-4b94-49f4-ab29-6586bbb8bb8b');\n",
              "          const dataTable =\n",
              "            await google.colab.kernel.invokeFunction('convertToInteractive',\n",
              "                                                     [key], {});\n",
              "          if (!dataTable) return;\n",
              "\n",
              "          const docLinkHtml = 'Like what you see? Visit the ' +\n",
              "            '<a target=\"_blank\" href=https://colab.research.google.com/notebooks/data_table.ipynb>data table notebook</a>'\n",
              "            + ' to learn more about interactive tables.';\n",
              "          element.innerHTML = '';\n",
              "          dataTable['output_type'] = 'display_data';\n",
              "          await google.colab.output.renderOutput(dataTable, element);\n",
              "          const docLink = document.createElement('div');\n",
              "          docLink.innerHTML = docLinkHtml;\n",
              "          element.appendChild(docLink);\n",
              "        }\n",
              "      </script>\n",
              "    </div>\n",
              "  </div>\n",
              "  "
            ]
          },
          "metadata": {},
          "execution_count": 49
        }
      ]
    },
    {
      "cell_type": "code",
      "source": [
        "most_purchased_items_season1 = season_1_df.groupby('article_id').size().sort_values(ascending=False)[:10].to_frame(name='count')\n",
        "most_purchased_items_season1 = most_purchased_items_season1.reset_index()\n",
        "most_purchased_items_season1"
      ],
      "metadata": {
        "colab": {
          "base_uri": "https://localhost:8080/",
          "height": 363
        },
        "id": "cz4G5jxuV-LB",
        "outputId": "522a8733-ecfa-4c15-b8be-4d018f5421e5"
      },
      "execution_count": 85,
      "outputs": [
        {
          "output_type": "execute_result",
          "data": {
            "text/plain": [
              "   article_id  count\n",
              "0   399223001  10111\n",
              "1   565379001  10011\n",
              "2   539723005   9893\n",
              "3   706016001   8997\n",
              "4   689109001   8985\n",
              "5   539723001   8419\n",
              "6   108775015   8397\n",
              "7   562245001   8145\n",
              "8   372860001   7844\n",
              "9   507910001   7802"
            ],
            "text/html": [
              "\n",
              "  <div id=\"df-681f2a13-9a05-4e9e-a9c3-79533ca8b0a4\">\n",
              "    <div class=\"colab-df-container\">\n",
              "      <div>\n",
              "<style scoped>\n",
              "    .dataframe tbody tr th:only-of-type {\n",
              "        vertical-align: middle;\n",
              "    }\n",
              "\n",
              "    .dataframe tbody tr th {\n",
              "        vertical-align: top;\n",
              "    }\n",
              "\n",
              "    .dataframe thead th {\n",
              "        text-align: right;\n",
              "    }\n",
              "</style>\n",
              "<table border=\"1\" class=\"dataframe\">\n",
              "  <thead>\n",
              "    <tr style=\"text-align: right;\">\n",
              "      <th></th>\n",
              "      <th>article_id</th>\n",
              "      <th>count</th>\n",
              "    </tr>\n",
              "  </thead>\n",
              "  <tbody>\n",
              "    <tr>\n",
              "      <th>0</th>\n",
              "      <td>399223001</td>\n",
              "      <td>10111</td>\n",
              "    </tr>\n",
              "    <tr>\n",
              "      <th>1</th>\n",
              "      <td>565379001</td>\n",
              "      <td>10011</td>\n",
              "    </tr>\n",
              "    <tr>\n",
              "      <th>2</th>\n",
              "      <td>539723005</td>\n",
              "      <td>9893</td>\n",
              "    </tr>\n",
              "    <tr>\n",
              "      <th>3</th>\n",
              "      <td>706016001</td>\n",
              "      <td>8997</td>\n",
              "    </tr>\n",
              "    <tr>\n",
              "      <th>4</th>\n",
              "      <td>689109001</td>\n",
              "      <td>8985</td>\n",
              "    </tr>\n",
              "    <tr>\n",
              "      <th>5</th>\n",
              "      <td>539723001</td>\n",
              "      <td>8419</td>\n",
              "    </tr>\n",
              "    <tr>\n",
              "      <th>6</th>\n",
              "      <td>108775015</td>\n",
              "      <td>8397</td>\n",
              "    </tr>\n",
              "    <tr>\n",
              "      <th>7</th>\n",
              "      <td>562245001</td>\n",
              "      <td>8145</td>\n",
              "    </tr>\n",
              "    <tr>\n",
              "      <th>8</th>\n",
              "      <td>372860001</td>\n",
              "      <td>7844</td>\n",
              "    </tr>\n",
              "    <tr>\n",
              "      <th>9</th>\n",
              "      <td>507910001</td>\n",
              "      <td>7802</td>\n",
              "    </tr>\n",
              "  </tbody>\n",
              "</table>\n",
              "</div>\n",
              "      <button class=\"colab-df-convert\" onclick=\"convertToInteractive('df-681f2a13-9a05-4e9e-a9c3-79533ca8b0a4')\"\n",
              "              title=\"Convert this dataframe to an interactive table.\"\n",
              "              style=\"display:none;\">\n",
              "        \n",
              "  <svg xmlns=\"http://www.w3.org/2000/svg\" height=\"24px\"viewBox=\"0 0 24 24\"\n",
              "       width=\"24px\">\n",
              "    <path d=\"M0 0h24v24H0V0z\" fill=\"none\"/>\n",
              "    <path d=\"M18.56 5.44l.94 2.06.94-2.06 2.06-.94-2.06-.94-.94-2.06-.94 2.06-2.06.94zm-11 1L8.5 8.5l.94-2.06 2.06-.94-2.06-.94L8.5 2.5l-.94 2.06-2.06.94zm10 10l.94 2.06.94-2.06 2.06-.94-2.06-.94-.94-2.06-.94 2.06-2.06.94z\"/><path d=\"M17.41 7.96l-1.37-1.37c-.4-.4-.92-.59-1.43-.59-.52 0-1.04.2-1.43.59L10.3 9.45l-7.72 7.72c-.78.78-.78 2.05 0 2.83L4 21.41c.39.39.9.59 1.41.59.51 0 1.02-.2 1.41-.59l7.78-7.78 2.81-2.81c.8-.78.8-2.07 0-2.86zM5.41 20L4 18.59l7.72-7.72 1.47 1.35L5.41 20z\"/>\n",
              "  </svg>\n",
              "      </button>\n",
              "      \n",
              "  <style>\n",
              "    .colab-df-container {\n",
              "      display:flex;\n",
              "      flex-wrap:wrap;\n",
              "      gap: 12px;\n",
              "    }\n",
              "\n",
              "    .colab-df-convert {\n",
              "      background-color: #E8F0FE;\n",
              "      border: none;\n",
              "      border-radius: 50%;\n",
              "      cursor: pointer;\n",
              "      display: none;\n",
              "      fill: #1967D2;\n",
              "      height: 32px;\n",
              "      padding: 0 0 0 0;\n",
              "      width: 32px;\n",
              "    }\n",
              "\n",
              "    .colab-df-convert:hover {\n",
              "      background-color: #E2EBFA;\n",
              "      box-shadow: 0px 1px 2px rgba(60, 64, 67, 0.3), 0px 1px 3px 1px rgba(60, 64, 67, 0.15);\n",
              "      fill: #174EA6;\n",
              "    }\n",
              "\n",
              "    [theme=dark] .colab-df-convert {\n",
              "      background-color: #3B4455;\n",
              "      fill: #D2E3FC;\n",
              "    }\n",
              "\n",
              "    [theme=dark] .colab-df-convert:hover {\n",
              "      background-color: #434B5C;\n",
              "      box-shadow: 0px 1px 3px 1px rgba(0, 0, 0, 0.15);\n",
              "      filter: drop-shadow(0px 1px 2px rgba(0, 0, 0, 0.3));\n",
              "      fill: #FFFFFF;\n",
              "    }\n",
              "  </style>\n",
              "\n",
              "      <script>\n",
              "        const buttonEl =\n",
              "          document.querySelector('#df-681f2a13-9a05-4e9e-a9c3-79533ca8b0a4 button.colab-df-convert');\n",
              "        buttonEl.style.display =\n",
              "          google.colab.kernel.accessAllowed ? 'block' : 'none';\n",
              "\n",
              "        async function convertToInteractive(key) {\n",
              "          const element = document.querySelector('#df-681f2a13-9a05-4e9e-a9c3-79533ca8b0a4');\n",
              "          const dataTable =\n",
              "            await google.colab.kernel.invokeFunction('convertToInteractive',\n",
              "                                                     [key], {});\n",
              "          if (!dataTable) return;\n",
              "\n",
              "          const docLinkHtml = 'Like what you see? Visit the ' +\n",
              "            '<a target=\"_blank\" href=https://colab.research.google.com/notebooks/data_table.ipynb>data table notebook</a>'\n",
              "            + ' to learn more about interactive tables.';\n",
              "          element.innerHTML = '';\n",
              "          dataTable['output_type'] = 'display_data';\n",
              "          await google.colab.output.renderOutput(dataTable, element);\n",
              "          const docLink = document.createElement('div');\n",
              "          docLink.innerHTML = docLinkHtml;\n",
              "          element.appendChild(docLink);\n",
              "        }\n",
              "      </script>\n",
              "    </div>\n",
              "  </div>\n",
              "  "
            ]
          },
          "metadata": {},
          "execution_count": 85
        }
      ]
    },
    {
      "cell_type": "code",
      "source": [
        "most_purchased_items_season2 = season_2_df.groupby('article_id').size().sort_values(ascending=False)[:10].to_frame(name='count')\n",
        "most_purchased_items_season2 = most_purchased_items_season2.reset_index()\n",
        "most_purchased_items_season2"
      ],
      "metadata": {
        "colab": {
          "base_uri": "https://localhost:8080/",
          "height": 363
        },
        "id": "PW7hLgpeXHdA",
        "outputId": "ec0f1ddf-5a04-427f-d10b-1060a6f16c8d"
      },
      "execution_count": 80,
      "outputs": [
        {
          "output_type": "execute_result",
          "data": {
            "text/plain": [
              "   article_id  count\n",
              "0   706016001  40508\n",
              "1   706016002  27068\n",
              "2   759871002  26118\n",
              "3   372860001  23374\n",
              "4   610776002  22636\n",
              "5   372860002  21005\n",
              "6   720125001  20949\n",
              "7   464297007  19373\n",
              "8   610776001  17515\n",
              "9   751471001  17130"
            ],
            "text/html": [
              "\n",
              "  <div id=\"df-e3b60083-39b3-410d-93d2-5b6cb0b211a4\">\n",
              "    <div class=\"colab-df-container\">\n",
              "      <div>\n",
              "<style scoped>\n",
              "    .dataframe tbody tr th:only-of-type {\n",
              "        vertical-align: middle;\n",
              "    }\n",
              "\n",
              "    .dataframe tbody tr th {\n",
              "        vertical-align: top;\n",
              "    }\n",
              "\n",
              "    .dataframe thead th {\n",
              "        text-align: right;\n",
              "    }\n",
              "</style>\n",
              "<table border=\"1\" class=\"dataframe\">\n",
              "  <thead>\n",
              "    <tr style=\"text-align: right;\">\n",
              "      <th></th>\n",
              "      <th>article_id</th>\n",
              "      <th>count</th>\n",
              "    </tr>\n",
              "  </thead>\n",
              "  <tbody>\n",
              "    <tr>\n",
              "      <th>0</th>\n",
              "      <td>706016001</td>\n",
              "      <td>40508</td>\n",
              "    </tr>\n",
              "    <tr>\n",
              "      <th>1</th>\n",
              "      <td>706016002</td>\n",
              "      <td>27068</td>\n",
              "    </tr>\n",
              "    <tr>\n",
              "      <th>2</th>\n",
              "      <td>759871002</td>\n",
              "      <td>26118</td>\n",
              "    </tr>\n",
              "    <tr>\n",
              "      <th>3</th>\n",
              "      <td>372860001</td>\n",
              "      <td>23374</td>\n",
              "    </tr>\n",
              "    <tr>\n",
              "      <th>4</th>\n",
              "      <td>610776002</td>\n",
              "      <td>22636</td>\n",
              "    </tr>\n",
              "    <tr>\n",
              "      <th>5</th>\n",
              "      <td>372860002</td>\n",
              "      <td>21005</td>\n",
              "    </tr>\n",
              "    <tr>\n",
              "      <th>6</th>\n",
              "      <td>720125001</td>\n",
              "      <td>20949</td>\n",
              "    </tr>\n",
              "    <tr>\n",
              "      <th>7</th>\n",
              "      <td>464297007</td>\n",
              "      <td>19373</td>\n",
              "    </tr>\n",
              "    <tr>\n",
              "      <th>8</th>\n",
              "      <td>610776001</td>\n",
              "      <td>17515</td>\n",
              "    </tr>\n",
              "    <tr>\n",
              "      <th>9</th>\n",
              "      <td>751471001</td>\n",
              "      <td>17130</td>\n",
              "    </tr>\n",
              "  </tbody>\n",
              "</table>\n",
              "</div>\n",
              "      <button class=\"colab-df-convert\" onclick=\"convertToInteractive('df-e3b60083-39b3-410d-93d2-5b6cb0b211a4')\"\n",
              "              title=\"Convert this dataframe to an interactive table.\"\n",
              "              style=\"display:none;\">\n",
              "        \n",
              "  <svg xmlns=\"http://www.w3.org/2000/svg\" height=\"24px\"viewBox=\"0 0 24 24\"\n",
              "       width=\"24px\">\n",
              "    <path d=\"M0 0h24v24H0V0z\" fill=\"none\"/>\n",
              "    <path d=\"M18.56 5.44l.94 2.06.94-2.06 2.06-.94-2.06-.94-.94-2.06-.94 2.06-2.06.94zm-11 1L8.5 8.5l.94-2.06 2.06-.94-2.06-.94L8.5 2.5l-.94 2.06-2.06.94zm10 10l.94 2.06.94-2.06 2.06-.94-2.06-.94-.94-2.06-.94 2.06-2.06.94z\"/><path d=\"M17.41 7.96l-1.37-1.37c-.4-.4-.92-.59-1.43-.59-.52 0-1.04.2-1.43.59L10.3 9.45l-7.72 7.72c-.78.78-.78 2.05 0 2.83L4 21.41c.39.39.9.59 1.41.59.51 0 1.02-.2 1.41-.59l7.78-7.78 2.81-2.81c.8-.78.8-2.07 0-2.86zM5.41 20L4 18.59l7.72-7.72 1.47 1.35L5.41 20z\"/>\n",
              "  </svg>\n",
              "      </button>\n",
              "      \n",
              "  <style>\n",
              "    .colab-df-container {\n",
              "      display:flex;\n",
              "      flex-wrap:wrap;\n",
              "      gap: 12px;\n",
              "    }\n",
              "\n",
              "    .colab-df-convert {\n",
              "      background-color: #E8F0FE;\n",
              "      border: none;\n",
              "      border-radius: 50%;\n",
              "      cursor: pointer;\n",
              "      display: none;\n",
              "      fill: #1967D2;\n",
              "      height: 32px;\n",
              "      padding: 0 0 0 0;\n",
              "      width: 32px;\n",
              "    }\n",
              "\n",
              "    .colab-df-convert:hover {\n",
              "      background-color: #E2EBFA;\n",
              "      box-shadow: 0px 1px 2px rgba(60, 64, 67, 0.3), 0px 1px 3px 1px rgba(60, 64, 67, 0.15);\n",
              "      fill: #174EA6;\n",
              "    }\n",
              "\n",
              "    [theme=dark] .colab-df-convert {\n",
              "      background-color: #3B4455;\n",
              "      fill: #D2E3FC;\n",
              "    }\n",
              "\n",
              "    [theme=dark] .colab-df-convert:hover {\n",
              "      background-color: #434B5C;\n",
              "      box-shadow: 0px 1px 3px 1px rgba(0, 0, 0, 0.15);\n",
              "      filter: drop-shadow(0px 1px 2px rgba(0, 0, 0, 0.3));\n",
              "      fill: #FFFFFF;\n",
              "    }\n",
              "  </style>\n",
              "\n",
              "      <script>\n",
              "        const buttonEl =\n",
              "          document.querySelector('#df-e3b60083-39b3-410d-93d2-5b6cb0b211a4 button.colab-df-convert');\n",
              "        buttonEl.style.display =\n",
              "          google.colab.kernel.accessAllowed ? 'block' : 'none';\n",
              "\n",
              "        async function convertToInteractive(key) {\n",
              "          const element = document.querySelector('#df-e3b60083-39b3-410d-93d2-5b6cb0b211a4');\n",
              "          const dataTable =\n",
              "            await google.colab.kernel.invokeFunction('convertToInteractive',\n",
              "                                                     [key], {});\n",
              "          if (!dataTable) return;\n",
              "\n",
              "          const docLinkHtml = 'Like what you see? Visit the ' +\n",
              "            '<a target=\"_blank\" href=https://colab.research.google.com/notebooks/data_table.ipynb>data table notebook</a>'\n",
              "            + ' to learn more about interactive tables.';\n",
              "          element.innerHTML = '';\n",
              "          dataTable['output_type'] = 'display_data';\n",
              "          await google.colab.output.renderOutput(dataTable, element);\n",
              "          const docLink = document.createElement('div');\n",
              "          docLink.innerHTML = docLinkHtml;\n",
              "          element.appendChild(docLink);\n",
              "        }\n",
              "      </script>\n",
              "    </div>\n",
              "  </div>\n",
              "  "
            ]
          },
          "metadata": {},
          "execution_count": 80
        }
      ]
    },
    {
      "cell_type": "code",
      "source": [
        "articles_df[articles_df['article_id']==most_purchased_items_season1['article_id'][i]]"
      ],
      "metadata": {
        "colab": {
          "base_uri": "https://localhost:8080/",
          "height": 243
        },
        "id": "43pQzUXPZnVZ",
        "outputId": "3504bc94-8ace-4bc1-8dce-cf0c20d182a2"
      },
      "execution_count": 97,
      "outputs": [
        {
          "output_type": "execute_result",
          "data": {
            "text/plain": [
              "      article_id  product_code                prod_name  product_type_no  \\\n",
              "2236   399223001        399223  Curvy Jeggings HW Ankle              272   \n",
              "\n",
              "     product_type_name  product_group_name  graphical_appearance_no  \\\n",
              "2236          Trousers  Garment Lower body                  1010016   \n",
              "\n",
              "     graphical_appearance_name  colour_group_code colour_group_name  ...  \\\n",
              "2236                     Solid                  9             Black  ...   \n",
              "\n",
              "      department_name index_code  index_name index_group_no  index_group_name  \\\n",
              "2236   Denim Trousers          D     Divided              2           Divided   \n",
              "\n",
              "     section_no  section_name garment_group_no  garment_group_name  \\\n",
              "2236         57  Ladies Denim             1016      Trousers Denim   \n",
              "\n",
              "                                            detail_desc  \n",
              "2236  Jeggings in washed, superstretch denim with a ...  \n",
              "\n",
              "[1 rows x 25 columns]"
            ],
            "text/html": [
              "\n",
              "  <div id=\"df-77469750-d3d2-4ca0-bd1b-c3320d339029\">\n",
              "    <div class=\"colab-df-container\">\n",
              "      <div>\n",
              "<style scoped>\n",
              "    .dataframe tbody tr th:only-of-type {\n",
              "        vertical-align: middle;\n",
              "    }\n",
              "\n",
              "    .dataframe tbody tr th {\n",
              "        vertical-align: top;\n",
              "    }\n",
              "\n",
              "    .dataframe thead th {\n",
              "        text-align: right;\n",
              "    }\n",
              "</style>\n",
              "<table border=\"1\" class=\"dataframe\">\n",
              "  <thead>\n",
              "    <tr style=\"text-align: right;\">\n",
              "      <th></th>\n",
              "      <th>article_id</th>\n",
              "      <th>product_code</th>\n",
              "      <th>prod_name</th>\n",
              "      <th>product_type_no</th>\n",
              "      <th>product_type_name</th>\n",
              "      <th>product_group_name</th>\n",
              "      <th>graphical_appearance_no</th>\n",
              "      <th>graphical_appearance_name</th>\n",
              "      <th>colour_group_code</th>\n",
              "      <th>colour_group_name</th>\n",
              "      <th>...</th>\n",
              "      <th>department_name</th>\n",
              "      <th>index_code</th>\n",
              "      <th>index_name</th>\n",
              "      <th>index_group_no</th>\n",
              "      <th>index_group_name</th>\n",
              "      <th>section_no</th>\n",
              "      <th>section_name</th>\n",
              "      <th>garment_group_no</th>\n",
              "      <th>garment_group_name</th>\n",
              "      <th>detail_desc</th>\n",
              "    </tr>\n",
              "  </thead>\n",
              "  <tbody>\n",
              "    <tr>\n",
              "      <th>2236</th>\n",
              "      <td>399223001</td>\n",
              "      <td>399223</td>\n",
              "      <td>Curvy Jeggings HW Ankle</td>\n",
              "      <td>272</td>\n",
              "      <td>Trousers</td>\n",
              "      <td>Garment Lower body</td>\n",
              "      <td>1010016</td>\n",
              "      <td>Solid</td>\n",
              "      <td>9</td>\n",
              "      <td>Black</td>\n",
              "      <td>...</td>\n",
              "      <td>Denim Trousers</td>\n",
              "      <td>D</td>\n",
              "      <td>Divided</td>\n",
              "      <td>2</td>\n",
              "      <td>Divided</td>\n",
              "      <td>57</td>\n",
              "      <td>Ladies Denim</td>\n",
              "      <td>1016</td>\n",
              "      <td>Trousers Denim</td>\n",
              "      <td>Jeggings in washed, superstretch denim with a ...</td>\n",
              "    </tr>\n",
              "  </tbody>\n",
              "</table>\n",
              "<p>1 rows × 25 columns</p>\n",
              "</div>\n",
              "      <button class=\"colab-df-convert\" onclick=\"convertToInteractive('df-77469750-d3d2-4ca0-bd1b-c3320d339029')\"\n",
              "              title=\"Convert this dataframe to an interactive table.\"\n",
              "              style=\"display:none;\">\n",
              "        \n",
              "  <svg xmlns=\"http://www.w3.org/2000/svg\" height=\"24px\"viewBox=\"0 0 24 24\"\n",
              "       width=\"24px\">\n",
              "    <path d=\"M0 0h24v24H0V0z\" fill=\"none\"/>\n",
              "    <path d=\"M18.56 5.44l.94 2.06.94-2.06 2.06-.94-2.06-.94-.94-2.06-.94 2.06-2.06.94zm-11 1L8.5 8.5l.94-2.06 2.06-.94-2.06-.94L8.5 2.5l-.94 2.06-2.06.94zm10 10l.94 2.06.94-2.06 2.06-.94-2.06-.94-.94-2.06-.94 2.06-2.06.94z\"/><path d=\"M17.41 7.96l-1.37-1.37c-.4-.4-.92-.59-1.43-.59-.52 0-1.04.2-1.43.59L10.3 9.45l-7.72 7.72c-.78.78-.78 2.05 0 2.83L4 21.41c.39.39.9.59 1.41.59.51 0 1.02-.2 1.41-.59l7.78-7.78 2.81-2.81c.8-.78.8-2.07 0-2.86zM5.41 20L4 18.59l7.72-7.72 1.47 1.35L5.41 20z\"/>\n",
              "  </svg>\n",
              "      </button>\n",
              "      \n",
              "  <style>\n",
              "    .colab-df-container {\n",
              "      display:flex;\n",
              "      flex-wrap:wrap;\n",
              "      gap: 12px;\n",
              "    }\n",
              "\n",
              "    .colab-df-convert {\n",
              "      background-color: #E8F0FE;\n",
              "      border: none;\n",
              "      border-radius: 50%;\n",
              "      cursor: pointer;\n",
              "      display: none;\n",
              "      fill: #1967D2;\n",
              "      height: 32px;\n",
              "      padding: 0 0 0 0;\n",
              "      width: 32px;\n",
              "    }\n",
              "\n",
              "    .colab-df-convert:hover {\n",
              "      background-color: #E2EBFA;\n",
              "      box-shadow: 0px 1px 2px rgba(60, 64, 67, 0.3), 0px 1px 3px 1px rgba(60, 64, 67, 0.15);\n",
              "      fill: #174EA6;\n",
              "    }\n",
              "\n",
              "    [theme=dark] .colab-df-convert {\n",
              "      background-color: #3B4455;\n",
              "      fill: #D2E3FC;\n",
              "    }\n",
              "\n",
              "    [theme=dark] .colab-df-convert:hover {\n",
              "      background-color: #434B5C;\n",
              "      box-shadow: 0px 1px 3px 1px rgba(0, 0, 0, 0.15);\n",
              "      filter: drop-shadow(0px 1px 2px rgba(0, 0, 0, 0.3));\n",
              "      fill: #FFFFFF;\n",
              "    }\n",
              "  </style>\n",
              "\n",
              "      <script>\n",
              "        const buttonEl =\n",
              "          document.querySelector('#df-77469750-d3d2-4ca0-bd1b-c3320d339029 button.colab-df-convert');\n",
              "        buttonEl.style.display =\n",
              "          google.colab.kernel.accessAllowed ? 'block' : 'none';\n",
              "\n",
              "        async function convertToInteractive(key) {\n",
              "          const element = document.querySelector('#df-77469750-d3d2-4ca0-bd1b-c3320d339029');\n",
              "          const dataTable =\n",
              "            await google.colab.kernel.invokeFunction('convertToInteractive',\n",
              "                                                     [key], {});\n",
              "          if (!dataTable) return;\n",
              "\n",
              "          const docLinkHtml = 'Like what you see? Visit the ' +\n",
              "            '<a target=\"_blank\" href=https://colab.research.google.com/notebooks/data_table.ipynb>data table notebook</a>'\n",
              "            + ' to learn more about interactive tables.';\n",
              "          element.innerHTML = '';\n",
              "          dataTable['output_type'] = 'display_data';\n",
              "          await google.colab.output.renderOutput(dataTable, element);\n",
              "          const docLink = document.createElement('div');\n",
              "          docLink.innerHTML = docLinkHtml;\n",
              "          element.appendChild(docLink);\n",
              "        }\n",
              "      </script>\n",
              "    </div>\n",
              "  </div>\n",
              "  "
            ]
          },
          "metadata": {},
          "execution_count": 97
        }
      ]
    },
    {
      "cell_type": "code",
      "source": [
        "len(most_purchased_items_season1)"
      ],
      "metadata": {
        "colab": {
          "base_uri": "https://localhost:8080/"
        },
        "id": "3DBdEyQFaRAm",
        "outputId": "946fb2fa-d0a2-4b76-971c-4a37402d1777"
      },
      "execution_count": 103,
      "outputs": [
        {
          "output_type": "execute_result",
          "data": {
            "text/plain": [
              "10"
            ]
          },
          "metadata": {},
          "execution_count": 103
        }
      ]
    },
    {
      "cell_type": "code",
      "source": [
        "for i in range(len(most_purchased_items_season1)):\n",
        "  print(articles_df[articles_df['article_id']==most_purchased_items_season1['article_id'][i]]['product_type_name'])"
      ],
      "metadata": {
        "colab": {
          "base_uri": "https://localhost:8080/"
        },
        "id": "rsSa8DzUT9wr",
        "outputId": "d33f8e1f-2032-4715-c3ff-814d741a123d"
      },
      "execution_count": 105,
      "outputs": [
        {
          "output_type": "stream",
          "name": "stdout",
          "text": [
            "2236    Trousers\n",
            "Name: product_type_name, dtype: object\n",
            "15137    Vest top\n",
            "Name: product_type_name, dtype: object\n",
            "10289    Trousers\n",
            "Name: product_type_name, dtype: object\n",
            "53892    Trousers\n",
            "Name: product_type_name, dtype: object\n",
            "47592    Bikini top\n",
            "Name: product_type_name, dtype: object\n",
            "10285    Trousers\n",
            "Name: product_type_name, dtype: object\n",
            "0    Vest top\n",
            "Name: product_type_name, dtype: object\n",
            "14240    Trousers\n",
            "Name: product_type_name, dtype: object\n",
            "1713    Socks\n",
            "Name: product_type_name, dtype: object\n",
            "6658    Shirt\n",
            "Name: product_type_name, dtype: object\n"
          ]
        }
      ]
    },
    {
      "cell_type": "code",
      "source": [
        "for i in range(len(most_purchased_items_season2)):\n",
        "  print(articles_df[articles_df['article_id']==most_purchased_items_season2['article_id'][i]]['product_type_name'])"
      ],
      "metadata": {
        "colab": {
          "base_uri": "https://localhost:8080/"
        },
        "id": "q1Z8nVj7awEe",
        "outputId": "97632244-f635-488f-e68b-3639e409fd6e"
      },
      "execution_count": 106,
      "outputs": [
        {
          "output_type": "stream",
          "name": "stdout",
          "text": [
            "53892    Trousers\n",
            "Name: product_type_name, dtype: object\n",
            "53893    Trousers\n",
            "Name: product_type_name, dtype: object\n",
            "70221    Vest top\n",
            "Name: product_type_name, dtype: object\n",
            "1713    Socks\n",
            "Name: product_type_name, dtype: object\n",
            "24837    T-shirt\n",
            "Name: product_type_name, dtype: object\n",
            "1714    Socks\n",
            "Name: product_type_name, dtype: object\n",
            "58491    Leggings/Tights\n",
            "Name: product_type_name, dtype: object\n",
            "3711    Underwear bottom\n",
            "Name: product_type_name, dtype: object\n",
            "24836    T-shirt\n",
            "Name: product_type_name, dtype: object\n",
            "67522    Trousers\n",
            "Name: product_type_name, dtype: object\n"
          ]
        }
      ]
    },
    {
      "cell_type": "markdown",
      "source": [
        "# **CUSTOMERS**"
      ],
      "metadata": {
        "id": "QvyNJ_Nw5T7O"
      }
    },
    {
      "cell_type": "code",
      "source": [
        "#adding a new feature to customers \n",
        "purchase_counts = train_data.groupby('customer_id').size()\n",
        "purchase_counts = purchase_counts.to_frame(name='purchase_count')"
      ],
      "metadata": {
        "id": "VUcbUclQhqJy"
      },
      "execution_count": 14,
      "outputs": []
    },
    {
      "cell_type": "code",
      "source": [
        "train_data.groupby('customer_id').size()"
      ],
      "metadata": {
        "colab": {
          "base_uri": "https://localhost:8080/"
        },
        "id": "rHyX66ERjLCq",
        "outputId": "69d02e94-7801-496f-90f1-0c3005aba0f8"
      },
      "execution_count": 36,
      "outputs": [
        {
          "output_type": "execute_result",
          "data": {
            "text/plain": [
              "customer_id\n",
              "00000dbacae5abe5e23885899a1fa44253a17956c6d1c3d25f88aa139fdfc657    21\n",
              "0000423b00ade91418cceaf3b26c6af3dd342b51fd051eec9c12fb36984420fa    86\n",
              "000058a12d5b43e67d225668fa1f8d618c13dc232df0cad8ffe7ad4a1091e318    17\n",
              "00005ca1c9ed5f5146b52ac8639a40ca9d57aeff4d1bd2c5feb1ca5dff07c43e     2\n",
              "00006413d8573cd20ed7128e53b7b13819fe5cfc2d801fe7fc0f26dd8d65a85a    13\n",
              "                                                                    ..\n",
              "ffffbbf78b6eaac697a8a5dfbfd2bfa8113ee5b403e4747568cac33e8c541831    51\n",
              "ffffcd5046a6143d29a04fb8c424ce494a76e5cdf4fab53481233731b5c4f8b7    84\n",
              "ffffcf35913a0bee60e8741cb2b4e78b8a98ee5ff2e6a1778d0116cffd259264    44\n",
              "ffffd7744cebcf3aca44ae7049d2a94b87074c3d4ffe38b2236865d949d4df6a     7\n",
              "ffffd9ac14e89946416d80e791d064701994755c3ab686a1eaf3458c36f52241     1\n",
              "Length: 1351314, dtype: int64"
            ]
          },
          "metadata": {},
          "execution_count": 36
        }
      ]
    },
    {
      "cell_type": "code",
      "source": [
        "len(customers_df)"
      ],
      "metadata": {
        "colab": {
          "base_uri": "https://localhost:8080/"
        },
        "id": "umF2QsFEhpuB",
        "outputId": "dabccf49-7a6b-4a10-87ac-7752d052bab7"
      },
      "execution_count": 16,
      "outputs": [
        {
          "output_type": "execute_result",
          "data": {
            "text/plain": [
              "1362281"
            ]
          },
          "metadata": {},
          "execution_count": 16
        }
      ]
    },
    {
      "cell_type": "code",
      "source": [
        "customers_df['purchase_count'] = 0\n",
        "customers_df.set_index('customer_id', inplace = True)\n",
        "customers_df.update(purchase_counts)"
      ],
      "metadata": {
        "id": "fOo5HY57mvNW"
      },
      "execution_count": 17,
      "outputs": []
    },
    {
      "cell_type": "code",
      "source": [
        "customers_df.groupby('fashion_news_frequency').size()"
      ],
      "metadata": {
        "colab": {
          "base_uri": "https://localhost:8080/"
        },
        "id": "6s-Vb9YB7PoM",
        "outputId": "98626710-d9bd-41cb-dd0b-5014b8642447"
      },
      "execution_count": 18,
      "outputs": [
        {
          "output_type": "execute_result",
          "data": {
            "text/plain": [
              "fashion_news_frequency\n",
              "Monthly         840\n",
              "NONE         871598\n",
              "None              1\n",
              "Regularly    473843\n",
              "dtype: int64"
            ]
          },
          "metadata": {},
          "execution_count": 18
        }
      ]
    },
    {
      "cell_type": "code",
      "source": [
        "for column_name in customers_df.keys():\n",
        "  nan_count = len(customers_df[customers_df[[column_name]].isna().any(axis=1)])\n",
        "  if nan_count > 0:\n",
        "    print(str(nan_count) + \" Nan found in column name \" + column_name)"
      ],
      "metadata": {
        "colab": {
          "base_uri": "https://localhost:8080/"
        },
        "id": "skjs5mMa5_kL",
        "outputId": "dbc572f0-b329-4256-c1f1-1f872fb33fd6"
      },
      "execution_count": 19,
      "outputs": [
        {
          "output_type": "stream",
          "name": "stdout",
          "text": [
            "6054 Nan found in column name club_member_status\n",
            "15999 Nan found in column name fashion_news_frequency\n",
            "15761 Nan found in column name age\n"
          ]
        }
      ]
    },
    {
      "cell_type": "code",
      "source": [
        "customers_df['age'].fillna(customers_df.age.mean(), inplace=True) #replaces nan values with the mean of age\n",
        "customers_df['club_member_status'].fillna('NAN_MEMBER_STAT', inplace=True)\n",
        "customers_df['fashion_news_frequency'].fillna('NAN_NEWS_FREQ', inplace=True) \n",
        "print(\"**Filling nan**\")\n",
        "print(\"# of nan val columns: \" + str(len(customers_df[customers_df.isna().any(axis=1)]))) #number of rows containing nan values"
      ],
      "metadata": {
        "id": "7mnijUIyV9im",
        "colab": {
          "base_uri": "https://localhost:8080/"
        },
        "outputId": "c70528e3-8331-413c-e708-cd36bbee220a"
      },
      "execution_count": 20,
      "outputs": [
        {
          "output_type": "stream",
          "name": "stdout",
          "text": [
            "**Filling nan**\n",
            "# of nan val columns: 0\n"
          ]
        }
      ]
    },
    {
      "cell_type": "code",
      "source": [
        "customers_df.keys()"
      ],
      "metadata": {
        "colab": {
          "base_uri": "https://localhost:8080/"
        },
        "id": "53qXUaWD-XOA",
        "outputId": "191da0f2-e859-45d4-b180-02d3401d031c"
      },
      "execution_count": 21,
      "outputs": [
        {
          "output_type": "execute_result",
          "data": {
            "text/plain": [
              "Index(['club_member_status', 'fashion_news_frequency', 'age',\n",
              "       'purchase_count'],\n",
              "      dtype='object')"
            ]
          },
          "metadata": {},
          "execution_count": 21
        }
      ]
    },
    {
      "cell_type": "code",
      "source": [
        "#for None-> NONE\n",
        "customers_df['fashion_news_frequency'] = customers_df['fashion_news_frequency'].str.upper()\n",
        "customers_df.groupby(['fashion_news_frequency']).size()\n",
        "\n",
        "#text to categorical\n",
        "customers_df = text_to_categorical(customers_df, 'fashion_news_frequency')\n",
        "customers_df = text_to_categorical(customers_df, 'club_member_status')\n",
        "customers_df.keys()"
      ],
      "metadata": {
        "colab": {
          "base_uri": "https://localhost:8080/"
        },
        "id": "utEkA-2s-3cY",
        "outputId": "0de51e69-8536-4ce3-c1e1-efeb2961050c"
      },
      "execution_count": 22,
      "outputs": [
        {
          "output_type": "execute_result",
          "data": {
            "text/plain": [
              "Index(['age', 'purchase_count', 'MONTHLY', 'NAN_NEWS_FREQ', 'NONE',\n",
              "       'REGULARLY', 'ACTIVE', 'LEFT CLUB', 'NAN_MEMBER_STAT', 'PRE-CREATE'],\n",
              "      dtype='object')"
            ]
          },
          "metadata": {},
          "execution_count": 22
        }
      ]
    },
    {
      "cell_type": "code",
      "source": [
        "#for pca, we need to standardize data \n",
        "customers_df = standardize_column(customers_df, 'age')\n",
        "customers_df = standardize_column(customers_df, 'purchase_count')"
      ],
      "metadata": {
        "id": "i4HlgxHftbW_"
      },
      "execution_count": null,
      "outputs": []
    },
    {
      "cell_type": "code",
      "source": [
        "principal_components_customers = get_principle_components(customers_df[['age', 'MONTHLY', 'NAN_NEWS_FREQ', 'NONE', 'REGULARLY',\n",
        "       'ACTIVE', 'LEFT CLUB', 'NAN_MEMBER_STAT', 'PRE-CREATE','purchase_count']],7)\n",
        "\n",
        "'''\n",
        "principal_df = pd.DataFrame(data = principal_components\n",
        "             , columns = ['principal component 1', 'principal component 2'])\n",
        "\n",
        "import seaborn as sns\n",
        "sns.scatterplot(data=principal_df, x='principal component 1', y='principal component 2')\n",
        "'''\n",
        "\n",
        "'''\n",
        "#1 saat çalıştı bitmedi, çok uzun computation\n",
        "\n",
        "from sklearn.manifold import TSNE\n",
        "import seaborn as sns\n",
        "tsne = TSNE(n_components=2, verbose=1, random_state=123)\n",
        "z = tsne.fit_transform(customers_df[['age', 'MONTHLY', 'NONE', 'REGULARLY', 'ACTIVE',\n",
        "       'LEFT CLUB', 'PRE-CREATE']][:2000])\n",
        "'''"
      ],
      "metadata": {
        "colab": {
          "base_uri": "https://localhost:8080/",
          "height": 53
        },
        "id": "tZPoOMo17uS3",
        "outputId": "4ece0bae-2104-412d-ac7e-a1c2d42b8482"
      },
      "execution_count": 32,
      "outputs": [
        {
          "output_type": "execute_result",
          "data": {
            "text/plain": [
              "\"\\n#1 saat çalıştı bitmedi, çok uzun computation\\n\\nfrom sklearn.manifold import TSNE\\nimport seaborn as sns\\ntsne = TSNE(n_components=2, verbose=1, random_state=123)\\nz = tsne.fit_transform(customers_df[['age', 'MONTHLY', 'NONE', 'REGULARLY', 'ACTIVE',\\n       'LEFT CLUB', 'PRE-CREATE']][:2000])\\n\""
            ],
            "application/vnd.google.colaboratory.intrinsic+json": {
              "type": "string"
            }
          },
          "metadata": {},
          "execution_count": 32
        }
      ]
    },
    {
      "cell_type": "markdown",
      "source": [
        "# **ARTICLES**"
      ],
      "metadata": {
        "id": "LHQh7KOe5W-6"
      }
    },
    {
      "cell_type": "code",
      "source": [
        "#only some descriptions are null, no need to fillna\n",
        "for column_name in articles_df.keys():\n",
        "  nan_count = len(articles_df[articles_df[[column_name]].isna().any(axis=1)])\n",
        "  if nan_count > 0:\n",
        "    print(str(nan_count) + \" Nan found in column name \" + column_name)"
      ],
      "metadata": {
        "colab": {
          "base_uri": "https://localhost:8080/"
        },
        "id": "3k-he2aA5hpi",
        "outputId": "4268af47-ebdc-4e57-d3b7-d286b10a91df"
      },
      "execution_count": 24,
      "outputs": [
        {
          "output_type": "stream",
          "name": "stdout",
          "text": [
            "416 Nan found in column name detail_desc\n"
          ]
        }
      ]
    },
    {
      "cell_type": "code",
      "source": [
        "#reducing features\n",
        "articles_df = articles_df[['article_id','garment_group_name', 'index_group_name']]"
      ],
      "metadata": {
        "id": "VMOd59TV5v9d"
      },
      "execution_count": 25,
      "outputs": []
    },
    {
      "cell_type": "code",
      "source": [
        "#text to categorical\n",
        "articles_df = text_to_categorical(articles_df, 'garment_group_name')\n",
        "articles_df = text_to_categorical(articles_df, 'index_group_name')\n",
        "articles_df.keys()\n"
      ],
      "metadata": {
        "colab": {
          "base_uri": "https://localhost:8080/"
        },
        "id": "3_d_QBeN8wL6",
        "outputId": "e1f68c19-5a27-4dff-df4a-c8b1ac47bc2a"
      },
      "execution_count": 26,
      "outputs": [
        {
          "output_type": "execute_result",
          "data": {
            "text/plain": [
              "Index(['article_id', 'Accessories', 'Blouses', 'Dressed', 'Dresses Ladies',\n",
              "       'Dresses/Skirts girls', 'Jersey Basic', 'Jersey Fancy', 'Knitwear',\n",
              "       'Outdoor', 'Shirts', 'Shoes', 'Shorts', 'Skirts', 'Socks and Tights',\n",
              "       'Special Offers', 'Swimwear', 'Trousers', 'Trousers Denim',\n",
              "       'Under-, Nightwear', 'Unknown', 'Woven/Jersey/Knitted mix Baby',\n",
              "       'Baby/Children', 'Divided', 'Ladieswear', 'Menswear', 'Sport'],\n",
              "      dtype='object')"
            ]
          },
          "metadata": {},
          "execution_count": 26
        }
      ]
    },
    {
      "cell_type": "code",
      "source": [
        "principal_components_articles = get_principle_components(articles_df[['Accessories', 'Blouses', 'Dressed', 'Dresses Ladies',\n",
        "       'Dresses/Skirts girls', 'Jersey Basic', 'Jersey Fancy', 'Knitwear',\n",
        "       'Outdoor', 'Shirts', 'Shoes', 'Shorts', 'Skirts', 'Socks and Tights',\n",
        "       'Special Offers', 'Swimwear', 'Trousers', 'Trousers Denim',\n",
        "       'Under-, Nightwear', 'Unknown', 'Woven/Jersey/Knitted mix Baby',\n",
        "       'Baby/Children', 'Divided', 'Ladieswear', 'Menswear', 'Sport']],5)"
      ],
      "metadata": {
        "id": "IdLqqCl59JLK"
      },
      "execution_count": 27,
      "outputs": []
    },
    {
      "cell_type": "markdown",
      "source": [
        "# **K Means**"
      ],
      "metadata": {
        "id": "0G-0xHk96R8j"
      }
    },
    {
      "cell_type": "code",
      "source": [
        "import matplotlib.pyplot as plt\n",
        "def scatter_plot(principal_components,label):\n",
        "  #Getting unique labels\n",
        "  \n",
        "  u_labels = np.unique(label)\n",
        "  \n",
        "  #plotting the results:\n",
        "  \n",
        "  for i in u_labels:\n",
        "      plt.scatter(principal_components[label == i , 0] , principal_components[label == i , 1] , label = i)\n",
        "  plt.legend()\n",
        "  plt.show()"
      ],
      "metadata": {
        "id": "WLt3Jx_oM-6S"
      },
      "execution_count": 28,
      "outputs": []
    },
    {
      "cell_type": "code",
      "source": [
        "from sklearn.cluster import KMeans\n",
        "import numpy as np\n",
        "def get_groups(principal_components,n):\n",
        "  kmeans = KMeans(n_clusters=n, random_state=0).fit(principal_components)\n",
        "  kmeans.labels_\n",
        "\n",
        "  label = kmeans.fit_predict(principal_components)\n",
        "  one_hot_encoded = pd.get_dummies(label)\n",
        "  #kmeans.cluster_centers_\n",
        "  \n",
        "  return label, one_hot_encoded"
      ],
      "metadata": {
        "id": "MoWqkYsRLyxb"
      },
      "execution_count": 29,
      "outputs": []
    },
    {
      "cell_type": "code",
      "source": [
        "def check_sorted(transactions_df):\n",
        "  t_dat = transactions_df['t_dat'].values\n",
        "  t_dat_tmp = t_dat[:]\n",
        "  t_dat_tmp.sort()\n",
        "  if (np.array_equal(t_dat_tmp,t_dat)):\n",
        "      print('Transactions_df is sorted')"
      ],
      "metadata": {
        "id": "NuwT1nXMYvbT"
      },
      "execution_count": 30,
      "outputs": []
    },
    {
      "cell_type": "code",
      "source": [
        "n = 3\n",
        "articles_labels, one_hot_encoded_articles = get_groups(principal_components_articles, n)\n",
        "scatter_plot(principal_components_articles,articles_labels)\n",
        "customers_labels, one_hot_encoded_customers = get_groups(principal_components_customers, n)\n",
        "scatter_plot(principal_components_customers,customers_labels)"
      ],
      "metadata": {
        "colab": {
          "base_uri": "https://localhost:8080/",
          "height": 513
        },
        "id": "Sxe1L04UNbpz",
        "outputId": "96c32b87-92bd-4584-c02b-0b3f2809445a"
      },
      "execution_count": 34,
      "outputs": [
        {
          "output_type": "display_data",
          "data": {
            "text/plain": [
              "<Figure size 432x288 with 1 Axes>"
            ],
            "image/png": "[encoded data removed]"
          },
          "metadata": {
            "needs_background": "light"
          }
        },
        {
          "output_type": "display_data",
          "data": {
            "text/plain": [
              "<Figure size 432x288 with 1 Axes>"
            ],
            "image/png": "[encoded data removed]"
          },
          "metadata": {
            "needs_background": "light"
          }
        }
      ]
    },
    {
      "cell_type": "markdown",
      "source": [
        "# **NOTES**\n"
      ],
      "metadata": {
        "id": "ypkV7YUJvgrs"
      }
    },
    {
      "cell_type": "markdown",
      "source": [
        "Bazı customerların yaşı yanlış olabilir, 90 yaş üstü trendyolu kullanan kişi sayısının olması beni şaşırttı."
      ],
      "metadata": {
        "id": "5JuapYhlvkxg"
      }
    }
  ]
}